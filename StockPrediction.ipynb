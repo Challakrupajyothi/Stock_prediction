{
  "nbformat": 4,
  "nbformat_minor": 0,
  "metadata": {
    "colab": {
      "provenance": [],
      "authorship_tag": "ABX9TyNcRV/ur6JajCA0CTO92Bxy",
      "include_colab_link": true
    },
    "kernelspec": {
      "name": "python3",
      "display_name": "Python 3"
    },
    "language_info": {
      "name": "python"
    }
  },
  "cells": [
    {
      "cell_type": "markdown",
      "metadata": {
        "id": "view-in-github",
        "colab_type": "text"
      },
      "source": [
        "<a href=\"https://colab.research.google.com/github/Challakrupajyothi/Stock_prediction/blob/main/StockPrediction.ipynb\" target=\"_parent\"><img src=\"https://colab.research.google.com/assets/colab-badge.svg\" alt=\"Open In Colab\"/></a>"
      ]
    },
    {
      "cell_type": "markdown",
      "source": [
        "### **Collecting Data from API**"
      ],
      "metadata": {
        "id": "yuMUkANTJrlT"
      }
    },
    {
      "cell_type": "code",
      "execution_count": 33,
      "metadata": {
        "colab": {
          "base_uri": "https://localhost:8080/"
        },
        "id": "4z8dD2SteIVK",
        "outputId": "4e549431-83e0-4fdb-9433-ae9d97e79fd9"
      },
      "outputs": [
        {
          "output_type": "stream",
          "name": "stdout",
          "text": [
            "        Date     Open     High      Low    Close\n",
            "0 2018-07-11  6306.87  6405.59  6293.68  6394.36\n",
            "1 2018-07-12  6394.36  6394.93  6084.00  6253.60\n",
            "2 2018-07-13  6253.66  6349.21  6131.54  6229.83\n",
            "3 2018-07-14  6229.61  6332.46  6190.18  6268.75\n",
            "4 2018-07-15  6268.32  6401.50  6245.75  6364.26\n"
          ]
        }
      ],
      "source": [
        "import requests\n",
        "import pandas as pd\n",
        "from datetime import datetime\n",
        "\n",
        "# Replace 'YOUR_API_KEY' with your actual CryptoCompare API key\n",
        "API_KEY = '103611374f4b59bc246db96c334a316a2e5cb0890ee2f56437a14532e28fe56f'\n",
        "BASE_URL = 'https://min-api.cryptocompare.com/data/v2/histoday'\n",
        "\n",
        "def fetch_crypto_data(crypto_pair, start_date):\n",
        "    \"\"\"\n",
        "    Fetch daily historical data for a specific cryptocurrency pair.\n",
        "\n",
        "    Parameters:\n",
        "    - crypto_pair (str): Cryptocurrency pair, e.g., \"BTC/USD\".\n",
        "    - start_date (str): Start date in \"YYYY-MM-DD\" format.\n",
        "\n",
        "    Returns:\n",
        "    - DataFrame: Data with columns Date, Open, High, Low, Close.\n",
        "    \"\"\"\n",
        "    fsym, tsym = crypto_pair.split('/')  # Extract base and quote currencies\n",
        "    limit = 2000  # Maximum daily records per API call (adjustable)\n",
        "\n",
        "    # Request historical data\n",
        "    params = {\n",
        "        'fsym': fsym,\n",
        "        'tsym': tsym,\n",
        "        'limit': limit,\n",
        "        'toTs': int(datetime.strptime(start_date, \"%Y-%m-%d\").timestamp()),\n",
        "        'api_key': API_KEY\n",
        "    }\n",
        "    response = requests.get(BASE_URL, params=params)\n",
        "    data = response.json()\n",
        "    # print(data)\n",
        "\n",
        "    # Parse and format data\n",
        "    if 'Data' in data['Data']:\n",
        "        ohlc_data = data['Data']['Data']\n",
        "        df = pd.DataFrame(ohlc_data)\n",
        "        df['Date'] = pd.to_datetime(df['time'], unit='s')\n",
        "        df = df.rename(columns={'open': 'Open', 'high': 'High', 'low': 'Low', 'close': 'Close'})\n",
        "        return df[['Date', 'Open', 'High', 'Low', 'Close']]\n",
        "    else:\n",
        "        print(\"Error fetching data:\", data)\n",
        "        return None\n",
        "\n",
        "# Example usage\n",
        "crypto_pair = \"BTC/USD\"\n",
        "start_date = \"2024-01-01\"\n",
        "df = fetch_crypto_data(crypto_pair, start_date)\n",
        "print(df.head())"
      ]
    },
    {
      "cell_type": "markdown",
      "source": [
        "# Genarating the new columns form the existing columns as per my requirement"
      ],
      "metadata": {
        "id": "48IiLvy8L8Gn"
      }
    },
    {
      "cell_type": "code",
      "source": [
        "import pandas as pd\n",
        "\n",
        "def calculate_crypto_metrics(df, variable1, variable2):\n",
        "    # Historical High Price for look-back period\n",
        "    df[f'High_Last_{variable1}_Days'] = df['High'].rolling(window=variable1, min_periods=1).max()\n",
        "\n",
        "    # Days Since High for look-back period\n",
        "    df[f'Days_Since_High_Last_{variable1}_Days'] = (\n",
        "        df.groupby((df['High'] == df[f'High_Last_{variable1}_Days']).cumsum()).cumcount()\n",
        "    )\n",
        "\n",
        "    # % Difference from Historical High\n",
        "    df[f'%_Diff_From_High_Last_{variable1}_Days'] = (\n",
        "        (df['Close'] - df[f'High_Last_{variable1}_Days']) / df[f'High_Last_{variable1}_Days'] * 100\n",
        "    )\n",
        "\n",
        "    # Historical Low Price for look-back period\n",
        "    df[f'Low_Last_{variable1}_Days'] = df['Low'].rolling(window=variable1, min_periods=1).min()\n",
        "\n",
        "    # Days Since Low for look-back period\n",
        "    df[f'Days_Since_Low_Last_{variable1}_Days'] = (\n",
        "        df.groupby((df['Low'] == df[f'Low_Last_{variable1}_Days']).cumsum()).cumcount()\n",
        "    )\n",
        "\n",
        "    # % Difference from Historical Low\n",
        "    df[f'%_Diff_From_Low_Last_{variable1}_Days'] = (\n",
        "        (df['Close'] - df[f'Low_Last_{variable1}_Days']) / df[f'Low_Last_{variable1}_Days'] * 100\n",
        "    )\n",
        "\n",
        "    # Future High Price for look-forward period\n",
        "    df[f'High_Next_{variable2}_Days'] = df['High'].shift(-variable2).rolling(window=variable2, min_periods=1).max()\n",
        "\n",
        "    # % Difference from Future High\n",
        "    df[f'%_Diff_From_High_Next_{variable2}_Days'] = (\n",
        "        (df['Close'] - df[f'High_Next_{variable2}_Days']) / df[f'High_Next_{variable2}_Days'] * 100\n",
        "    )\n",
        "\n",
        "    # Future Low Price for look-forward period\n",
        "    df[f'Low_Next_{variable2}_Days'] = df['Low'].shift(-variable2).rolling(window=variable2, min_periods=1).min()\n",
        "\n",
        "    # % Difference from Future Low\n",
        "    df[f'%_Diff_From_Low_Next_{variable2}_Days'] = (\n",
        "        (df['Close'] - df[f'Low_Next_{variable2}_Days']) / df[f'Low_Next_{variable2}_Days'] * 100\n",
        "    )\n",
        "\n",
        "    return df\n",
        "\n",
        "# Sample usage with a sample DataFrame\n",
        "\n",
        "result_df = calculate_crypto_metrics(df, variable1=7, variable2=5)"
      ],
      "metadata": {
        "id": "RBXWy-eSHEcY"
      },
      "execution_count": 34,
      "outputs": []
    },
    {
      "cell_type": "markdown",
      "source": [
        "# Filling Null Values"
      ],
      "metadata": {
        "id": "--fwBwWyOEE4"
      }
    },
    {
      "cell_type": "code",
      "source": [
        "df.isnull().sum()\n",
        "df=df.fillna(0)"
      ],
      "metadata": {
        "id": "QpyYEzt0NOSv"
      },
      "execution_count": 35,
      "outputs": []
    },
    {
      "cell_type": "markdown",
      "source": [
        "# Training the model"
      ],
      "metadata": {
        "id": "_cPh1gNVMpOS"
      }
    },
    {
      "cell_type": "code",
      "source": [
        "# ml_model.py\n",
        "\n",
        "import pandas as pd\n",
        "from sklearn.model_selection import train_test_split\n",
        "from sklearn.linear_model import LinearRegression\n",
        "# from sklearn.ensemble import RandomForestRegressor\n",
        "from sklearn.metrics import mean_squared_error\n",
        "import numpy as np\n",
        "\n",
        "# Train the model function\n",
        "def train_model(data,var1,var2):\n",
        "    \"\"\"\n",
        "    Trains a machine learning model to predict:\n",
        "    - %_Diff_From_High_Next_{variable2}_Days\n",
        "    - %_Diff_From_Low_Next_{variable2}_Days\n",
        "\n",
        "    Parameters:\n",
        "    data (DataFrame): Data containing input features and target columns.\n",
        "\n",
        "    Returns:\n",
        "    model (LinearRegression): Trained machine learning model.\n",
        "    accuracy (float): The model's accuracy (based on mean squared error).\n",
        "    \"\"\"\n",
        "\n",
        "    # Define features and target variables\n",
        "    # data=data.fillna(0)\n",
        "    X = data[[f'Days_Since_High_Last_{var1}_Days',\n",
        "              f'%_Diff_From_High_Last_{var1}_Days',\n",
        "              f'Days_Since_Low_Last_{var1}_Days',\n",
        "              f'%_Diff_From_Low_Last_{var1}_Days']]\n",
        "    # data.fillna(\"Nan\",0)\n",
        "    y = data[[f'%_Diff_From_High_Next_{var2}_Days', f'%_Diff_From_Low_Next_{var2}_Days']]\n",
        "\n",
        "\n",
        "    # Split the data into training and testing sets\n",
        "    X_train, X_test, y_train, y_test = train_test_split(X, y, test_size=0.2, random_state=42)\n",
        "\n",
        "    # Initialize and train the model\n",
        "    model = LinearRegression()\n",
        "    model.fit(X_train, y_train)\n",
        "\n",
        "    # Predict and evaluate the model's accuracy\n",
        "    y_pred = model.predict(X_test)\n",
        "    accuracy = mean_squared_error(y_test, y_pred)\n",
        "\n",
        "    print(f\"Model MSE: {accuracy}\")\n",
        "    return model, accuracy\n",
        "train_model(df,7,5)"
      ],
      "metadata": {
        "colab": {
          "base_uri": "https://localhost:8080/"
        },
        "id": "6hNogozJu-qj",
        "outputId": "452f44d3-f77b-4c35-8a30-c58b7ba6bce5"
      },
      "execution_count": 36,
      "outputs": [
        {
          "output_type": "stream",
          "name": "stdout",
          "text": [
            "Model MSE: 43.595407434758926\n"
          ]
        },
        {
          "output_type": "execute_result",
          "data": {
            "text/plain": [
              "(LinearRegression(), 43.595407434758926)"
            ]
          },
          "metadata": {},
          "execution_count": 36
        }
      ]
    },
    {
      "cell_type": "markdown",
      "source": [
        "# Prediction for give Data"
      ],
      "metadata": {
        "id": "pheytl38MmbC"
      }
    },
    {
      "cell_type": "code",
      "source": [
        "# Prediction function\n",
        "def predict_outcomes(data,features,var1,var2):\n",
        "    \"\"\"\n",
        "    Predicts %_Diff_From_High_Next_{variable2}_Days and %_Diff_From_Low_Next_{variable2}_Days.\n",
        "\n",
        "    Parameters:\n",
        "    model (LinearRegression): Trained model.\n",
        "    features (list or DataFrame): Input features for prediction.\n",
        "\n",
        "    Returns:\n",
        "    predictions (ndarray): Predicted values for both targets.\n",
        "    \"\"\"\n",
        "    data=data.fillna(0)\n",
        "    X = data[[f'Days_Since_High_Last_{var1}_Days',\n",
        "              f'%_Diff_From_High_Last_{var1}_Days',\n",
        "              f'Days_Since_Low_Last_{var1}_Days',\n",
        "              f'%_Diff_From_Low_Last_{var1}_Days']]\n",
        "    # data.fillna(\"Nan\",0)\n",
        "    y = data[[f'%_Diff_From_High_Next_{var2}_Days', f'%_Diff_From_Low_Next_{var2}_Days']]\n",
        "\n",
        "\n",
        "    # Split the data into training and testing sets\n",
        "    X_train, X_test, y_train, y_test = train_test_split(X, y, test_size=0.2, random_state=42)\n",
        "\n",
        "    # Initialize and train the model\n",
        "    model = LinearRegression()\n",
        "    model.fit(X_train, y_train)\n",
        "    feature_name=[f'Days_Since_High_Last_{var1}_Days',\n",
        "              f'%_Diff_From_High_Last_{var1}_Days',\n",
        "              f'Days_Since_Low_Last_{var1}_Days',\n",
        "              f'%_Diff_From_Low_Last_{var1}_Days']\n",
        "    f_df=pd.DataFrame([features],columns=feature_name)\n",
        "\n",
        "    # Predict and evaluate the model's accuracy\n",
        "    predictions = model.predict(f_df)\n",
        "    return predictions\n",
        "predict_outcomes(df,[0,-1.556,0,2.6565],7,5)"
      ],
      "metadata": {
        "colab": {
          "base_uri": "https://localhost:8080/"
        },
        "id": "SHH7d2Rg6tFJ",
        "outputId": "74ce8799-4ce0-433d-f9d6-12025d3abfc8"
      },
      "execution_count": 37,
      "outputs": [
        {
          "output_type": "execute_result",
          "data": {
            "text/plain": [
              "array([[-3.67209871,  3.72060791]])"
            ]
          },
          "metadata": {},
          "execution_count": 37
        }
      ]
    }
  ]
}